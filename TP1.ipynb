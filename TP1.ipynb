{
 "cells": [
  {
   "cell_type": "markdown",
   "metadata": {},
   "source": [
    "\n",
    "# TP1 Probabilité et statistique\n",
    "<html>\n",
    "   <head>\n",
    "      <title>HTML Base Tag Example</title>\n",
    "      <base href = \"https://github.com/nevermind78/Proba_stat_4_LM\" />\n",
    "   </head>\n",
    "   <body>\n",
    "      <img src = \"https://th.bing.com/th/id/OIP.Quijt6_GuJ-OzuMSNQ_S1gHaHa?pid=Api&rs=1\" width=\"200\" alt = \"Logo Image\"/>\n",
    "    </body>\n",
    "\n",
    "</html>\n"
   ]
  },
  {
   "cell_type": "code",
   "execution_count": 3,
   "metadata": {},
   "outputs": [],
   "source": [
    "from __future__ import print_function\n",
    "import numpy as np\n",
    "import pandas as pd\n",
    "from ipywidgets import interact, interactive, fixed, interact_manual\n",
    "import ipywidgets as widgets"
   ]
  },
  {
   "cell_type": "markdown",
   "metadata": {},
   "source": [
    "## Probabilités - approche fréquentiste\n",
    "### Définition par la fréquence relative :\n",
    "* une expérience d’ensemble fondamental  est exécutée plusieurs fois sous les mêmes conditions.\n",
    "* Pour chaque événement E de , n(E) est le nombre de fois où l’événement E survient lors des n premières répétitions de l’expérience.\n",
    "* P(E), la probabilité de l’événement E est définie de la manière suivante :\n",
    "\n",
    "$$P(E)=\\lim_{n\\to\\infty}\\dfrac{n(E)}{n} $$ "
   ]
  },
  {
   "cell_type": "markdown",
   "metadata": {},
   "source": [
    "## Simulation d'un dé parfait"
   ]
  },
  {
   "cell_type": "code",
   "execution_count": 4,
   "metadata": {},
   "outputs": [
    {
     "data": {
      "text/html": [
       "<div>\n",
       "<style scoped>\n",
       "    .dataframe tbody tr th:only-of-type {\n",
       "        vertical-align: middle;\n",
       "    }\n",
       "\n",
       "    .dataframe tbody tr th {\n",
       "        vertical-align: top;\n",
       "    }\n",
       "\n",
       "    .dataframe thead th {\n",
       "        text-align: right;\n",
       "    }\n",
       "</style>\n",
       "<table border=\"1\" class=\"dataframe\">\n",
       "  <thead>\n",
       "    <tr style=\"text-align: right;\">\n",
       "      <th></th>\n",
       "      <th>Occurence</th>\n",
       "      <th>Freq</th>\n",
       "      <th>P({i})</th>\n",
       "    </tr>\n",
       "    <tr>\n",
       "      <th>i</th>\n",
       "      <th></th>\n",
       "      <th></th>\n",
       "      <th></th>\n",
       "    </tr>\n",
       "  </thead>\n",
       "  <tbody>\n",
       "    <tr>\n",
       "      <th>1</th>\n",
       "      <td>33346</td>\n",
       "      <td>0.166730</td>\n",
       "      <td>0.16666666666666666</td>\n",
       "    </tr>\n",
       "    <tr>\n",
       "      <th>2</th>\n",
       "      <td>33221</td>\n",
       "      <td>0.166105</td>\n",
       "      <td>0.16666666666666666</td>\n",
       "    </tr>\n",
       "    <tr>\n",
       "      <th>3</th>\n",
       "      <td>33447</td>\n",
       "      <td>0.167235</td>\n",
       "      <td>0.16666666666666666</td>\n",
       "    </tr>\n",
       "    <tr>\n",
       "      <th>4</th>\n",
       "      <td>33224</td>\n",
       "      <td>0.166120</td>\n",
       "      <td>0.16666666666666666</td>\n",
       "    </tr>\n",
       "    <tr>\n",
       "      <th>5</th>\n",
       "      <td>33379</td>\n",
       "      <td>0.166895</td>\n",
       "      <td>0.16666666666666666</td>\n",
       "    </tr>\n",
       "    <tr>\n",
       "      <th>6</th>\n",
       "      <td>33383</td>\n",
       "      <td>0.166915</td>\n",
       "      <td>0.16666666666666666</td>\n",
       "    </tr>\n",
       "  </tbody>\n",
       "</table>\n",
       "</div>"
      ],
      "text/plain": [
       "   Occurence      Freq               P({i})\n",
       "i                                          \n",
       "1      33346  0.166730  0.16666666666666666\n",
       "2      33221  0.166105  0.16666666666666666\n",
       "3      33447  0.167235  0.16666666666666666\n",
       "4      33224  0.166120  0.16666666666666666\n",
       "5      33379  0.166895  0.16666666666666666\n",
       "6      33383  0.166915  0.16666666666666666"
      ]
     },
     "execution_count": 4,
     "metadata": {},
     "output_type": "execute_result"
    }
   ],
   "source": [
    "# seed the random number generator\n",
    "np.random.seed(1)\n",
    "\n",
    "# Example: sampling \n",
    "#\n",
    "# do not forget that Python arrays are zero-indexed,\n",
    "# and the 2nd argument to NumPy arange must be incremented by 1\n",
    "# if you want to include that value\n",
    "n = 6\n",
    "k = 200000\n",
    "T=np.random.choice(np.arange(1, n+1), k, replace=True)\n",
    "#T tableau qui contient k = 200000 choix aleatoire de {1,2,3,4,5,6}\n",
    "unique, counts = np.unique(T, return_counts=True)\n",
    "#unique ={1,2,3,4,5,6}\n",
    "dic=dict(zip(unique, counts))\n",
    "df=pd.DataFrame(list(dic.items()),columns=['i','Occurence'])\n",
    "df.set_index(['i'], inplace=True)\n",
    "df['Freq']=df['Occurence']/k\n",
    "df['P({i})']='{}'.format(1/6)\n",
    "df"
   ]
  },
  {
   "cell_type": "markdown",
   "metadata": {},
   "source": [
    "## Ajouter de l'intéraction "
   ]
  },
  {
   "cell_type": "code",
   "execution_count": 5,
   "metadata": {},
   "outputs": [],
   "source": [
    "def dice_sim(k=100):\n",
    "    n = 6    \n",
    "    T=np.random.choice(np.arange(1, n+1), k, replace=True)\n",
    "    unique, counts = np.unique(T, return_counts=True)\n",
    "    dic=dict(zip(unique, counts))\n",
    "    # Tableau\n",
    "    df=pd.DataFrame(list(dic.items()),columns=['i','Occurence'])\n",
    "    df.set_index(['i'], inplace=True)\n",
    "    df['Freq']=df['Occurence']/k\n",
    "    df['P({i})']='{0:.3f}'.format(1/6)\n",
    "    return df\n",
    "    "
   ]
  },
  {
   "cell_type": "code",
   "execution_count": 6,
   "metadata": {},
   "outputs": [
    {
     "data": {
      "text/html": [
       "<div>\n",
       "<style scoped>\n",
       "    .dataframe tbody tr th:only-of-type {\n",
       "        vertical-align: middle;\n",
       "    }\n",
       "\n",
       "    .dataframe tbody tr th {\n",
       "        vertical-align: top;\n",
       "    }\n",
       "\n",
       "    .dataframe thead th {\n",
       "        text-align: right;\n",
       "    }\n",
       "</style>\n",
       "<table border=\"1\" class=\"dataframe\">\n",
       "  <thead>\n",
       "    <tr style=\"text-align: right;\">\n",
       "      <th></th>\n",
       "      <th>Occurence</th>\n",
       "      <th>Freq</th>\n",
       "      <th>P({i})</th>\n",
       "    </tr>\n",
       "    <tr>\n",
       "      <th>i</th>\n",
       "      <th></th>\n",
       "      <th></th>\n",
       "      <th></th>\n",
       "    </tr>\n",
       "  </thead>\n",
       "  <tbody>\n",
       "    <tr>\n",
       "      <th>1</th>\n",
       "      <td>19</td>\n",
       "      <td>0.19</td>\n",
       "      <td>0.167</td>\n",
       "    </tr>\n",
       "    <tr>\n",
       "      <th>2</th>\n",
       "      <td>16</td>\n",
       "      <td>0.16</td>\n",
       "      <td>0.167</td>\n",
       "    </tr>\n",
       "    <tr>\n",
       "      <th>3</th>\n",
       "      <td>17</td>\n",
       "      <td>0.17</td>\n",
       "      <td>0.167</td>\n",
       "    </tr>\n",
       "    <tr>\n",
       "      <th>4</th>\n",
       "      <td>15</td>\n",
       "      <td>0.15</td>\n",
       "      <td>0.167</td>\n",
       "    </tr>\n",
       "    <tr>\n",
       "      <th>5</th>\n",
       "      <td>15</td>\n",
       "      <td>0.15</td>\n",
       "      <td>0.167</td>\n",
       "    </tr>\n",
       "    <tr>\n",
       "      <th>6</th>\n",
       "      <td>18</td>\n",
       "      <td>0.18</td>\n",
       "      <td>0.167</td>\n",
       "    </tr>\n",
       "  </tbody>\n",
       "</table>\n",
       "</div>"
      ],
      "text/plain": [
       "   Occurence  Freq P({i})\n",
       "i                        \n",
       "1         19  0.19  0.167\n",
       "2         16  0.16  0.167\n",
       "3         17  0.17  0.167\n",
       "4         15  0.15  0.167\n",
       "5         15  0.15  0.167\n",
       "6         18  0.18  0.167"
      ]
     },
     "execution_count": 6,
     "metadata": {},
     "output_type": "execute_result"
    }
   ],
   "source": [
    "dice_sim(100)"
   ]
  },
  {
   "cell_type": "code",
   "execution_count": 7,
   "metadata": {},
   "outputs": [
    {
     "data": {
      "application/vnd.jupyter.widget-view+json": {
       "model_id": "85996cabb9a1413ea9f577a63d4f0bfb",
       "version_major": 2,
       "version_minor": 0
      },
      "text/plain": [
       "interactive(children=(IntSlider(value=1000, description='k', max=50000, min=1000, step=500), Output()), _dom_c…"
      ]
     },
     "metadata": {},
     "output_type": "display_data"
    }
   ],
   "source": [
    "interact(dice_sim,k=widgets.IntSlider(min=1000, max=50000, step=500, value=10));"
   ]
  },
  {
   "cell_type": "markdown",
   "metadata": {},
   "source": [
    "## Cas d'un dé truqué"
   ]
  },
  {
   "cell_type": "code",
   "execution_count": 8,
   "metadata": {},
   "outputs": [
    {
     "data": {
      "text/plain": [
       "1.0"
      ]
     },
     "execution_count": 8,
     "metadata": {},
     "output_type": "execute_result"
    }
   ],
   "source": [
    "p=[0.1, 0.1, 0.1, 0.1,0.1,0.5]\n",
    "sum(p)"
   ]
  },
  {
   "cell_type": "code",
   "execution_count": 9,
   "metadata": {},
   "outputs": [],
   "source": [
    "def dice_sim(k=100,q=[[0.2, 0.1, 0.1, 0.2,0.1,0.3],[0.2, 0.1, 0.2, 0.1,0.1,0.3]]):\n",
    "    n = 6\n",
    "    qq=q\n",
    "    T=np.random.choice(np.arange(1, n+1), k, replace=True,p=qq)\n",
    "    unique, counts = np.unique(T, return_counts=True)\n",
    "    dic=dict(zip(unique, counts))\n",
    "    df=pd.DataFrame(list(dic.items()),columns=['i','Occurence'])\n",
    "    df.set_index(['i'], inplace=True)\n",
    "    df['Freq']=df['Occurence']/k\n",
    "    df['P({i})']=['{0:.3f}'.format(j) for j in q]\n",
    "    return df"
   ]
  },
  {
   "cell_type": "code",
   "execution_count": 10,
   "metadata": {},
   "outputs": [
    {
     "data": {
      "application/vnd.jupyter.widget-view+json": {
       "model_id": "1b2cb2b8ec904d20975d24bf2d6be8ae",
       "version_major": 2,
       "version_minor": 0
      },
      "text/plain": [
       "interactive(children=(IntSlider(value=1000, description='k', max=50000, min=1000, step=500), Dropdown(descript…"
      ]
     },
     "metadata": {},
     "output_type": "display_data"
    }
   ],
   "source": [
    "interact(dice_sim,k=widgets.IntSlider(min=1000, max=50000, step=500, value=10));"
   ]
  },
  {
   "cell_type": "markdown",
   "metadata": {},
   "source": [
    "## Exercice 1: \n",
    "\n",
    "Tester l'intéraction précédente pour plusieurs valeurs de `q`\n",
    "Donner votre conclusion :"
   ]
  },
  {
   "cell_type": "code",
   "execution_count": 11,
   "metadata": {},
   "outputs": [],
   "source": [
    "# Conclusion \n",
    "#les resultats de lexperience sont toujours trés proches aux probabilités choisies.\n",
    "\n",
    "\n",
    "\n"
   ]
  },
  {
   "cell_type": "markdown",
   "metadata": {},
   "source": [
    "## Permutation Aléatoire"
   ]
  },
  {
   "cell_type": "code",
   "execution_count": 12,
   "metadata": {},
   "outputs": [
    {
     "name": "stdout",
     "output_type": "stream",
     "text": [
      "v = [ 1  2  3  4  5  6  7  8  9 10]\n",
      "v, shuffled = [ 5  2  6  1  8  3  4  7 10  9]\n"
     ]
    }
   ],
   "source": [
    "np.random.seed(2)\n",
    "\n",
    "m = 1\n",
    "n = 10\n",
    "\n",
    "v = np.arange(m, n+1)\n",
    "print('v =', v)\n",
    "\n",
    "np.random.shuffle(v)\n",
    "print('v, shuffled =', v)"
   ]
  },
  {
   "cell_type": "markdown",
   "metadata": {},
   "source": [
    "## Exercice 2\n",
    "Vérifier que les permutation aléatoires sont uniforme , c'est à dire que la probabilité de générer une permutation d'élement de {1,2,3} est 1/6.\n",
    "En effet les permutations de {1,2,3} sont :\n",
    "* 1 2 3\n",
    "* 1 3 2\n",
    "* 2 1 3\n",
    "* 2 3 1\n",
    "* 3 1 2\n",
    "* 3 2 1\n"
   ]
  },
  {
   "cell_type": "code",
   "execution_count": 13,
   "metadata": {},
   "outputs": [],
   "source": [
    "k =10\n",
    "m = 1\n",
    "n = 3\n",
    "v = np.arange(m, n+1)\n",
    "T=[]\n",
    "for i in range(k):\n",
    "    np.random.shuffle(v)\n",
    "    w=np.copy(v)\n",
    "    T.append(w)"
   ]
  },
  {
   "cell_type": "code",
   "execution_count": 14,
   "metadata": {},
   "outputs": [
    {
     "data": {
      "text/plain": [
       "['[1 3 2]',\n",
       " '[3 1 2]',\n",
       " '[1 2 3]',\n",
       " '[1 3 2]',\n",
       " '[3 1 2]',\n",
       " '[3 1 2]',\n",
       " '[1 3 2]',\n",
       " '[2 1 3]',\n",
       " '[3 1 2]',\n",
       " '[2 3 1]']"
      ]
     },
     "execution_count": 14,
     "metadata": {},
     "output_type": "execute_result"
    }
   ],
   "source": [
    "TT=[str(i) for i in  T]\n",
    "TT"
   ]
  },
  {
   "cell_type": "code",
   "execution_count": 15,
   "metadata": {},
   "outputs": [
    {
     "data": {
      "text/html": [
       "<div>\n",
       "<style scoped>\n",
       "    .dataframe tbody tr th:only-of-type {\n",
       "        vertical-align: middle;\n",
       "    }\n",
       "\n",
       "    .dataframe tbody tr th {\n",
       "        vertical-align: top;\n",
       "    }\n",
       "\n",
       "    .dataframe thead th {\n",
       "        text-align: right;\n",
       "    }\n",
       "</style>\n",
       "<table border=\"1\" class=\"dataframe\">\n",
       "  <thead>\n",
       "    <tr style=\"text-align: right;\">\n",
       "      <th></th>\n",
       "      <th>Occurence</th>\n",
       "      <th>Freq</th>\n",
       "      <th>P({i,j,k})</th>\n",
       "    </tr>\n",
       "    <tr>\n",
       "      <th>i</th>\n",
       "      <th></th>\n",
       "      <th></th>\n",
       "      <th></th>\n",
       "    </tr>\n",
       "  </thead>\n",
       "  <tbody>\n",
       "    <tr>\n",
       "      <th>[1 2 3]</th>\n",
       "      <td>169</td>\n",
       "      <td>0.169</td>\n",
       "      <td>0.167</td>\n",
       "    </tr>\n",
       "    <tr>\n",
       "      <th>[1 3 2]</th>\n",
       "      <td>180</td>\n",
       "      <td>0.180</td>\n",
       "      <td>0.167</td>\n",
       "    </tr>\n",
       "    <tr>\n",
       "      <th>[2 1 3]</th>\n",
       "      <td>161</td>\n",
       "      <td>0.161</td>\n",
       "      <td>0.167</td>\n",
       "    </tr>\n",
       "    <tr>\n",
       "      <th>[2 3 1]</th>\n",
       "      <td>169</td>\n",
       "      <td>0.169</td>\n",
       "      <td>0.167</td>\n",
       "    </tr>\n",
       "    <tr>\n",
       "      <th>[3 1 2]</th>\n",
       "      <td>157</td>\n",
       "      <td>0.157</td>\n",
       "      <td>0.167</td>\n",
       "    </tr>\n",
       "    <tr>\n",
       "      <th>[3 2 1]</th>\n",
       "      <td>164</td>\n",
       "      <td>0.164</td>\n",
       "      <td>0.167</td>\n",
       "    </tr>\n",
       "  </tbody>\n",
       "</table>\n",
       "</div>"
      ],
      "text/plain": [
       "         Occurence   Freq P({i,j,k})\n",
       "i                                   \n",
       "[1 2 3]        169  0.169      0.167\n",
       "[1 3 2]        180  0.180      0.167\n",
       "[2 1 3]        161  0.161      0.167\n",
       "[2 3 1]        169  0.169      0.167\n",
       "[3 1 2]        157  0.157      0.167\n",
       "[3 2 1]        164  0.164      0.167"
      ]
     },
     "execution_count": 15,
     "metadata": {},
     "output_type": "execute_result"
    }
   ],
   "source": [
    "k =1000\n",
    "m = 1\n",
    "n = 3\n",
    "v = np.arange(m, n+1)\n",
    "T=[]\n",
    "for i in range(k):\n",
    "    np.random.shuffle(v)\n",
    "    w=np.copy(v)\n",
    "    T.append(w)\n",
    "\n",
    "TT=[str(i) for i in  T]\n",
    "unique, counts = np.unique(TT, return_counts=True)\n",
    "dic=dict(zip(unique, counts))\n",
    "df=pd.DataFrame(list(dic.items()),columns=['i','Occurence'])\n",
    "df.set_index(['i'], inplace=True)\n",
    "df['Freq']=df['Occurence']/k\n",
    "df['P({i,j,k})']='{0:.3f}'.format(1/6)\n",
    "df"
   ]
  },
  {
   "cell_type": "markdown",
   "metadata": {},
   "source": [
    "### Donner  votre conclusion en expliquant le script "
   ]
  },
  {
   "cell_type": "code",
   "execution_count": 16,
   "metadata": {},
   "outputs": [],
   "source": [
    "## Explication \n",
    "#en faisant la permutation aléatoire de lélement {1,2,3} 1000 fois, on note que les nombres doccurences de chaque permutation sont trés proches et donc ces occurences sont equiprobables(chaque permutation a presque 1/6 de probabilité).\n",
    "#alors, on conclut que les permutation aléatoires sont uniformes.\n",
    "\n",
    "\n",
    "\n",
    "\n",
    "\n",
    "\n"
   ]
  },
  {
   "cell_type": "markdown",
   "metadata": {},
   "source": [
    "## Probabilité conditionnelle "
   ]
  },
  {
   "cell_type": "markdown",
   "metadata": {},
   "source": [
    "Rappelons que l'interprétation fréquentiste de la probabilité conditionnelle basée sur un grand nombre `n` de répétitions d'une expérience est $ P (A | B) ≈ n_ {AB} / n_ {B} $, où $ n_ {AB} $ est le nombre de fois où $ A \\cap B $ se produit et $ n_ {B} $ est le nombre de fois où $ B $ se produit. Essayons cela par simulation et vérifions les résultats de l'exemple 2.2.5. Utilisons donc [`numpy.random.choice`] (https://docs.scipy.org/doc/numpy-1.15.0/reference/generated/numpy.random.choice.html) pour simuler les familles` n`, chacun avec deux enfants.\n"
   ]
  },
  {
   "cell_type": "code",
   "execution_count": 33,
   "metadata": {},
   "outputs": [
    {
     "name": "stdout",
     "output_type": "stream",
     "text": [
      "child1:\n",
      "[2 1 1 2 1 2 1 2 2 2 1 1 2 1 2 2 1 2 1 2 1 1 2 1 1 2 1 2 2 2 2 2 1 1 2 1 2\n",
      " 1 1 1 1 2 1 1 2 1 1 1 2 1 2 1 1 1 1 1 1 1 1 2 2 1 2 1 1 1 2 2 1 1 1 2 2 1\n",
      " 2 2 1 2 1 1 2 2 2 1 1 1 1 2 1 1 1 2 1 2 2 2 2 1 2 2]\n",
      "\n",
      "child2:\n",
      "[2 1 1 1 2 1 2 1 2 1 1 2 2 2 1 2 2 2 2 2 1 2 2 2 2 2 2 1 2 1 2 2 1 1 2 1 2\n",
      " 1 1 2 2 1 2 1 2 2 2 1 2 1 1 1 2 1 1 2 1 1 1 1 2 1 2 1 2 2 2 1 1 1 1 2 1 2\n",
      " 1 2 2 2 2 1 2 1 1 1 2 2 2 2 2 2 2 2 2 1 1 1 2 2 1 1]\n",
      "\n"
     ]
    }
   ],
   "source": [
    "np.random.seed(34)\n",
    "\n",
    "n = 10**5\n",
    "child1 = np.random.choice([1,2], n, replace=True) \n",
    "child2 = np.random.choice([1,2], n, replace=True) \n",
    "\n",
    "print('child1:\\n{}\\n'.format(child1))\n",
    "\n",
    "print('child2:\\n{}\\n'.format(child2))"
   ]
  },
  {
   "cell_type": "markdown",
   "metadata": {},
   "source": [
    "Ici, «child1» est un «tableau NumPy» de longueur «n», où chaque élément est un 1 ou un 2. En laissant 1 pour «fille» et 2 pour «garçon», ce «tableau» représente le sexe du enfant aîné dans chacune des familles «n». De même, «enfant2» représente le sexe du plus jeune enfant de chaque famille.\n"
   ]
  },
  {
   "cell_type": "code",
   "execution_count": 18,
   "metadata": {},
   "outputs": [
    {
     "data": {
      "text/plain": [
       "array(['boy', 'boy', 'boy', ..., 'boy', 'boy', 'boy'], dtype='<U4')"
      ]
     },
     "execution_count": 18,
     "metadata": {},
     "output_type": "execute_result"
    }
   ],
   "source": [
    "np.random.choice([\"girl\", \"boy\"], n, replace=True)"
   ]
  },
  {
   "cell_type": "markdown",
   "metadata": {},
   "source": [
    "mais il est plus pratique de travailler avec des valeurs numériques.\n",
    "\n",
    "Soit $ A $ l'événement où les deux enfants sont des filles et $ B $ l'événement où l'aîné est une fille. Suivant l'interprétation fréquentiste, nous comptons le nombre de répétitions où $ B $ s'est produit et le nommons `n_b`, et nous comptons également le nombre de répétitions où $ A \\cap B $ s'est produit et le nommons` n_ab`. Enfin, nous divisons `n_ab` par` n_b` pour approximer $ P (A | B) $."
   ]
  },
  {
   "cell_type": "code",
   "execution_count": 19,
   "metadata": {},
   "outputs": [
    {
     "name": "stdout",
     "output_type": "stream",
     "text": [
      "P(both girls | elder is girl) = 0.50\n"
     ]
    }
   ],
   "source": [
    "#Calculons la probabilité que les deux enfants soient des filles sachant que l'ainé est une fille.\n",
    "n_b = np.sum(child1==1) #P(B)\n",
    "n_ab = np.sum((child1==1) & (child2==1)) #P(𝐴∩𝐵)\n",
    "print('P(both girls | elder is girl) = {:0.2F}'.format(n_ab / n_b)) #𝑃(𝐴|𝐵)"
   ]
  },
  {
   "cell_type": "markdown",
   "metadata": {},
   "source": [
    "L'esperluette `&` est un élément par élément $ AND $, donc `n_ab` est le nombre de familles où le premier et le deuxième enfant sont des filles. Lorsque nous avons exécuté ce code, nous avons obtenu 0,50, confirmant notre réponse $ P (\\text {les deux filles | l'aîné est une fille}) = 1/2 $.\n",
    "\n",
    "Soit maintenant $ A $ l'événement où les deux enfants sont des filles et $ B $ l'événement selon lequel au moins l'un des enfants est une fille. Alors $ A \\cap B $ est le même, mais `n_b` doit compter le nombre de familles où au moins un enfant est une fille. Ceci est accompli avec l'opérateur élémentaire $ OR $ `|` (ce n'est pas une barre de conditionnement; c'est un $ OR $ inclusif, retournant `True` si au moins un élément est` True`)."
   ]
  },
  {
   "cell_type": "code",
   "execution_count": 20,
   "metadata": {},
   "outputs": [
    {
     "name": "stdout",
     "output_type": "stream",
     "text": [
      "P(both girls | at least one girl) = 0.33\n"
     ]
    }
   ],
   "source": [
    "#Calculons la probabilité que les deux enfants soient des filles sachant qu'au moins l'un des enfants est une fille.\n",
    "n_b = np.sum((child1==1) | (child2==2)) #P(B)\n",
    "n_ab = np.sum((child1==1) & (child2==1)) #P(𝐴∩𝐵)\n",
    "\n",
    "print('P(both girls | at least one girl) = {:0.2F}'.format(n_ab / n_b)) #𝑃(𝐴|𝐵)"
   ]
  },
  {
   "cell_type": "markdown",
   "metadata": {},
   "source": [
    "Pour nous, le résultat était de 0,33, confirmant que $ P (\\text {les deux filles | au moins une fille}) = 1/3 $."
   ]
  },
  {
   "cell_type": "code",
   "execution_count": 36,
   "metadata": {},
   "outputs": [
    {
     "name": "stdout",
     "output_type": "stream",
     "text": [
      "Urnes:\n",
      "['Urne4' 'Urne4' 'Urne2' ... 'Urne3' 'Urne1' 'Urne3']\n",
      "\n",
      "Urne1:\n",
      "['R' 'R' 'R' ... 'N' 'R' 'B']\n",
      "\n"
     ]
    }
   ],
   "source": [
    "#Exercice 6:\n",
    "np.random.seed(34)\n",
    "\n",
    "n = 10**4\n",
    "Urne1 = np.random.choice(['R','R','R','B','B','N','N','N'], n, replace=True) \n",
    "Urne2 = np.random.choice(['R','R','R','R','B','B','B','N'], n, replace=True) \n",
    "Urne3 = np.random.choice(['R','R','B','N'], n, replace=True)\n",
    "Urne4 = np.random.choice(['R','B','B','B','B','B','B','N','N'], n, replace=True)\n",
    "Urnes = np.random.choice(['Urne1','Urne2','Urne3','Urne4'], n, replace=True)\n",
    "print('Urnes:\\n{}\\n'.format(Urnes))\n",
    "print('Urne1:\\n{}\\n'.format(Urne1))"
   ]
  },
  {
   "cell_type": "code",
   "execution_count": 40,
   "metadata": {},
   "outputs": [
    {
     "name": "stdout",
     "output_type": "stream",
     "text": [
      "P(boule nest pas blanche) = 0.61589803\n"
     ]
    }
   ],
   "source": [
    "#Quelle est la probabilité que la boule tirée au hasard ne soit pas blanche?\n",
    "n_u1= np.sum(Urnes=='Urne1')\n",
    "n_u2= np.sum(Urnes=='Urne2')\n",
    "n_u3= np.sum(Urnes=='Urne3')\n",
    "n_u4= np.sum(Urnes=='Urne4')\n",
    "n_Bbar_u1= np.sum((Urne1=='R') | (Urne1=='N'))\n",
    "n_Bbar_u2= np.sum((Urne2=='R') | (Urne2=='N'))\n",
    "n_Bbar_u3= np.sum((Urne3=='R') | (Urne3=='N'))\n",
    "n_Bbar_u4= np.sum((Urne4=='R') | (Urne4=='N'))\n",
    "print('P(boule nest pas blanche) =',((n_u1*n_Bbar_u1)+(n_u2*n_Bbar_u2)+(n_u3*n_Bbar_u3)+(n_u4*n_Bbar_u4))/10**8)"
   ]
  },
  {
   "cell_type": "code",
   "execution_count": 23,
   "metadata": {},
   "outputs": [],
   "source": [
    "#Le résultat comfirme que 𝑃(boule nest pas blanche)=59/96 ."
   ]
  },
  {
   "cell_type": "code",
   "execution_count": 41,
   "metadata": {},
   "outputs": [
    {
     "name": "stdout",
     "output_type": "stream",
     "text": [
      "P(u3/R) = 0.334263351894609\n"
     ]
    }
   ],
   "source": [
    "#Quelle est la probabilité qu'elle a été tirée de l'urne 3 sachat qu'elle est rouge?\n",
    "n_r=((n_u1*np.sum(Urne1=='R'))+(n_u2*np.sum(Urne2=='R'))+(n_u3*np.sum(Urne3=='R'))+(n_u4*np.sum(Urne4=='R'))) #P(R)\n",
    "n_u3_r=(n_u3*np.sum(Urne3=='R')) #P(u3∩R)\n",
    "print('P(u3/R) =',n_u3_r/n_r)"
   ]
  },
  {
   "cell_type": "code",
   "execution_count": null,
   "metadata": {},
   "outputs": [],
   "source": [
    "#Le résultat comfirme que P(u3/R)=36/107"
   ]
  }
 ],
 "metadata": {
  "kernelspec": {
   "display_name": "Python 3",
   "language": "python",
   "name": "python3"
  },
  "language_info": {
   "codemirror_mode": {
    "name": "ipython",
    "version": 3
   },
   "file_extension": ".py",
   "mimetype": "text/x-python",
   "name": "python",
   "nbconvert_exporter": "python",
   "pygments_lexer": "ipython3",
   "version": "3.8.8"
  }
 },
 "nbformat": 4,
 "nbformat_minor": 4
}
