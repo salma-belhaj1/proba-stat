{
 "cells": [
  {
   "cell_type": "markdown",
   "metadata": {},
   "source": [
    "# Simulation du jeux de LIDO simplifié"
   ]
  },
  {
   "cell_type": "markdown",
   "metadata": {},
   "source": [
    "## Principe\n",
    "On considére un jeux de Lido simple:\n",
    "on dispose d'un un seul pion.\n",
    "\n",
    "- Etape 0 :\n",
    "Le pion doit sort de sa prison lorsqu'on obtient un 6.\n",
    "\n",
    "- Etape 1 :\n",
    "Le pion doit atteindre exactement une position cible situé à N pas de distance de sa prison \n",
    "\n",
    "Soit $X_n$ la variable aléatoire qui represente le nombre de coup nécéssaire pour atteindre la positions cible.\n",
    "\n",
    "**Objectif 1** : Simuler le jeux \n",
    "\n",
    "**Objectif 2** : Calculer une estimation de l'éspérance mathématique de $X_n$ en utilisant `python`\n",
    "\n",
    "**Objéctif 3** : Observer la variation de $\\mathbb{E}(X_n)$ en fonction de $n$\n",
    "\n",
    "<img src=\"LIDO.png\">\n"
   ]
  },
  {
   "cell_type": "code",
   "execution_count": 2,
   "metadata": {},
   "outputs": [],
   "source": [
    "import numpy as np"
   ]
  },
  {
   "cell_type": "markdown",
   "metadata": {},
   "source": [
    "### Simulation du lancé de dé"
   ]
  },
  {
   "cell_type": "code",
   "execution_count": 3,
   "metadata": {},
   "outputs": [],
   "source": [
    "def Roll():\n",
    "    \"\"\"simulation d'un seul lancé de dé parfait\"\"\"\n",
    "    return int(np.random.choice(range(1,7),1))"
   ]
  },
  {
   "cell_type": "code",
   "execution_count": 4,
   "metadata": {},
   "outputs": [
    {
     "data": {
      "text/plain": [
       "\"simulation d'un seul lancé de dé parfait\""
      ]
     },
     "execution_count": 4,
     "metadata": {},
     "output_type": "execute_result"
    }
   ],
   "source": [
    "Roll.__doc__"
   ]
  },
  {
   "cell_type": "code",
   "execution_count": 5,
   "metadata": {},
   "outputs": [
    {
     "name": "stdout",
     "output_type": "stream",
     "text": [
      "6\n",
      "3\n",
      "2\n",
      "1\n",
      "4\n",
      "4\n",
      "5\n",
      "3\n",
      "4\n",
      "5\n"
     ]
    }
   ],
   "source": [
    "for i in range(10):\n",
    "    print(Roll())"
   ]
  },
  {
   "cell_type": "markdown",
   "metadata": {},
   "source": [
    "### Compléter le code et commenter"
   ]
  },
  {
   "cell_type": "code",
   "execution_count": 6,
   "metadata": {
    "scrolled": false
   },
   "outputs": [
    {
     "name": "stdout",
     "output_type": "stream",
     "text": [
      "\t\t\t WELCOME TO THE GAME   START ROLLING \t\t\t\n",
      "you got 3\n",
      "you got 6\n",
      "Congrats!,you got out of prison\n",
      "you got 4\n",
      "you are now in position 5\n",
      "you got 4\n",
      "you are now in position 9\n",
      "you got 1\n",
      "you are now in position 10 \n",
      "\t\t\t GAME OVER   YOU WON \t\t\t\n",
      " Number of rolls: 5\n"
     ]
    }
   ],
   "source": [
    "#    mon code\n",
    "A=0\n",
    "NA=0\n",
    "S=10\n",
    "c=0\n",
    "print(\"\\t\\t\\t WELCOME TO THE GAME   START ROLLING \\t\\t\\t\")\n",
    "temp=Roll()\n",
    "NA+=1\n",
    "print(\"you got\",temp)\n",
    "while (temp!=6):\n",
    "    temp=Roll()\n",
    "    print(\"you got\",temp)\n",
    "    NA+=1\n",
    "A=1\n",
    "print(\"Congrats!,you got out of prison\")\n",
    "while (A<S) :\n",
    "    temp=Roll()\n",
    "    print(\"you got\",temp)\n",
    "    if temp+A<S:\n",
    "        NA+=1\n",
    "        A+=temp\n",
    "        print(\"you are now in position\",A)\n",
    "    elif temp+A>S:\n",
    "        print(\"Roll again!\")\n",
    "        NA+=1\n",
    "    else:\n",
    "        A=S\n",
    "        NA+=1\n",
    "        print(\"you are now in position\",A,\"\\n\\t\\t\\t GAME OVER   YOU WON \\t\\t\\t\\n Number of rolls:\",NA)   "
   ]
  },
  {
   "cell_type": "markdown",
   "metadata": {},
   "source": [
    "### Simulation\n",
    "Ecrire une foction `sim` qui simule le jeux et qui prend comme variable le nombre de pas $n$ nécessazire pour atteindre la cible"
   ]
  },
  {
   "cell_type": "code",
   "execution_count": 7,
   "metadata": {},
   "outputs": [],
   "source": [
    "def sim(S):\n",
    "    A=0\n",
    "    NA=0\n",
    "    S=10\n",
    "    c=0\n",
    "    temp=Roll()\n",
    "    NA+=1\n",
    "    while temp!=6:\n",
    "        temp=Roll()\n",
    "        NA+=1\n",
    "    A=1\n",
    "    while (A<S) :\n",
    "        temp=Roll()\n",
    "        if temp+A<S:\n",
    "            NA+=1\n",
    "            A+=temp\n",
    "        elif temp+A>S:\n",
    "            NA+=1\n",
    "        else:\n",
    "            A=S\n",
    "            NA+=1\n",
    "    return NA"
   ]
  },
  {
   "cell_type": "code",
   "execution_count": 8,
   "metadata": {},
   "outputs": [
    {
     "data": {
      "text/plain": [
       "5"
      ]
     },
     "execution_count": 8,
     "metadata": {},
     "output_type": "execute_result"
    }
   ],
   "source": [
    "sim(30)"
   ]
  },
  {
   "cell_type": "code",
   "execution_count": 73,
   "metadata": {},
   "outputs": [
    {
     "data": {
      "text/plain": [
       "13.555"
      ]
     },
     "execution_count": 73,
     "metadata": {},
     "output_type": "execute_result"
    }
   ],
   "source": [
    "N=1000\n",
    "sim(100)\n",
    "l=[sim(10) for i in range(N)]  \n",
    "sum(l)/N   "
   ]
  },
  {
   "cell_type": "markdown",
   "metadata": {},
   "source": [
    "### Simulation de $10^5$  scénario "
   ]
  },
  {
   "cell_type": "code",
   "execution_count": 63,
   "metadata": {},
   "outputs": [],
   "source": [
    "Freq=np.fromiter((sim(20) for i in range(10**2)),dtype=int)"
   ]
  },
  {
   "cell_type": "code",
   "execution_count": 64,
   "metadata": {},
   "outputs": [],
   "source": [
    "ESP=Freq.sum()/10**2 "
   ]
  },
  {
   "cell_type": "code",
   "execution_count": 65,
   "metadata": {},
   "outputs": [],
   "source": [
    "x=list(range(10,20)) \n",
    "y=[np.fromiter((sim(u) for i in range(5*10**2)),dtype=int).sum()/100 for u in x]"
   ]
  },
  {
   "cell_type": "code",
   "execution_count": 66,
   "metadata": {},
   "outputs": [],
   "source": [
    "import matplotlib.pyplot as plt"
   ]
  },
  {
   "cell_type": "code",
   "execution_count": 67,
   "metadata": {},
   "outputs": [
    {
     "data": {
      "text/plain": [
       "[<matplotlib.lines.Line2D at 0x21b2fbb41c0>]"
      ]
     },
     "execution_count": 67,
     "metadata": {},
     "output_type": "execute_result"
    },
    {
     "data": {
      "image/png": "[encoded data removed]",
      "text/plain": [
       "<Figure size 432x288 with 1 Axes>"
      ]
     },
     "metadata": {
      "needs_background": "light"
     },
     "output_type": "display_data"
    }
   ],
   "source": [
    "plt.plot(x,y)"
   ]
  },
  {
   "cell_type": "code",
   "execution_count": 68,
   "metadata": {},
   "outputs": [],
   "source": [
    "from scipy import stats\n",
    "import numpy as np\n",
    "slope, intercept, r_value, p_value, std_err = stats.linregress(x,y)"
   ]
  },
  {
   "cell_type": "code",
   "execution_count": 69,
   "metadata": {},
   "outputs": [
    {
     "data": {
      "text/plain": [
       "0.05678787878787848"
      ]
     },
     "execution_count": 69,
     "metadata": {},
     "output_type": "execute_result"
    }
   ],
   "source": [
    "slope"
   ]
  },
  {
   "cell_type": "code",
   "execution_count": 70,
   "metadata": {},
   "outputs": [
    {
     "data": {
      "text/plain": [
       "67.32557575757576"
      ]
     },
     "execution_count": 70,
     "metadata": {},
     "output_type": "execute_result"
    }
   ],
   "source": [
    "intercept"
   ]
  },
  {
   "cell_type": "code",
   "execution_count": 71,
   "metadata": {},
   "outputs": [],
   "source": [
    "yy=[slope *u +intercept for u in x]"
   ]
  },
  {
   "cell_type": "code",
   "execution_count": 72,
   "metadata": {},
   "outputs": [
    {
     "data": {
      "image/png": "[encoded data removed]",
      "text/plain": [
       "<Figure size 432x288 with 1 Axes>"
      ]
     },
     "metadata": {
      "needs_background": "light"
     },
     "output_type": "display_data"
    }
   ],
   "source": [
    "plt.plot(x,y,'*r',x,yy,'-b')\n",
    "plt.show()"
   ]
  }
 ],
 "metadata": {
  "kernelspec": {
   "display_name": "Python 3",
   "language": "python",
   "name": "python3"
  },
  "language_info": {
   "codemirror_mode": {
    "name": "ipython",
    "version": 3
   },
   "file_extension": ".py",
   "mimetype": "text/x-python",
   "name": "python",
   "nbconvert_exporter": "python",
   "pygments_lexer": "ipython3",
   "version": "3.8.8"
  }
 },
 "nbformat": 4,
 "nbformat_minor": 4
}
